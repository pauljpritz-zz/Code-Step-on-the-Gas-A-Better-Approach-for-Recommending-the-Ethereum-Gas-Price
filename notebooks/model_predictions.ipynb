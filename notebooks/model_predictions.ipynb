{
 "cells": [
  {
   "cell_type": "code",
   "execution_count": 68,
   "metadata": {},
   "outputs": [],
   "source": [
    "import numpy as np\n",
    "import pandas as pd\n",
    "import torch\n",
    "import matplotlib.pyplot as plt\n",
    "import matplotlib.style as style\n",
    "import matplotlib.ticker as ticker\n",
    "style.use('ggplot')\n",
    "import matplotlib\n",
    "import datetime\n",
    "matplotlib.rc('axes',edgecolor='darkgrey')"
   ]
  },
  {
   "cell_type": "code",
   "execution_count": 23,
   "metadata": {},
   "outputs": [],
   "source": [
    "import os, sys\n",
    "sys.path.append('../')\n",
    "from ethpred.pipeline.generate_data import generate_data\n",
    "from ethpred.pipeline.generate_data import sliding_window\n",
    "from ethpred.utils.config_reader import read_config\n",
    "from ethpred.pipeline.to_pandas import convert_to_dataframe\n",
    "from ethpred.pipeline.data_reader import read_data\n",
    "from ethpred.pipeline.normalizers import read_data"
   ]
  },
  {
   "cell_type": "code",
   "execution_count": 51,
   "metadata": {
    "scrolled": true
   },
   "outputs": [
    {
     "name": "stdout",
     "output_type": "stream",
     "text": [
      "before resampling: \n",
      "                      average_gas_price  tx_count  max_price_tx  min_price_tx  \\\n",
      "time                                                                           \n",
      "2019-11-20 00:00:03       5.852822e+09        85   26000000000    1000000000   \n",
      "2019-11-20 00:00:25       1.746755e+10       227   60000000000    2000000000   \n",
      "2019-11-20 00:00:35       1.240788e+10        61   30000000000    7380600900   \n",
      "2019-11-20 00:00:38       2.258333e+10        12   40000000000   10000000000   \n",
      "2019-11-20 00:00:39       6.155043e+09       176   60000000000    1200000000   \n",
      "\n",
      "                       value  average_gas_price_lagged  \n",
      "time                                                    \n",
      "2019-11-20 00:00:03  176.038              2.000294e+10  \n",
      "2019-11-20 00:00:25  176.038              2.355825e+10  \n",
      "2019-11-20 00:00:35  176.038              2.355825e+10  \n",
      "2019-11-20 00:00:38  176.038              2.355825e+10  \n",
      "2019-11-20 00:00:39  176.038              2.355825e+10  \n",
      "Empty DataFrame\n",
      "Columns: [average_gas_price, tx_count, max_price_tx, min_price_tx, value, average_gas_price_lagged]\n",
      "Index: []\n",
      "                     average_gas_price  tx_count  max_price_tx  min_price_tx  \\\n",
      "time                                                                           \n",
      "2019-11-20 00:00:00           0.279932  0.176151      0.067499      0.257582   \n",
      "2019-11-20 00:05:00           0.280727  0.210141      0.112755      0.275073   \n",
      "2019-11-20 00:10:00           0.243078  0.232597      0.153211      0.080861   \n",
      "2019-11-20 00:15:00           0.383569  0.165631      0.116494      0.361162   \n",
      "2019-11-20 00:20:00           0.288332  0.139159      0.087627      0.227465   \n",
      "\n",
      "                        value  average_gas_price_lagged  \n",
      "time                                                     \n",
      "2019-11-20 00:00:00  0.997463                  0.026736  \n",
      "2019-11-20 00:05:00  0.997463                  0.030295  \n",
      "2019-11-20 00:10:00  0.997463                  0.046253  \n",
      "2019-11-20 00:15:00  0.997463                  0.040137  \n",
      "2019-11-20 00:20:00  0.997463                  0.043849  \n",
      "truncated by: 2\n"
     ]
    },
    {
     "name": "stderr",
     "output_type": "stream",
     "text": [
      "/home/pjp18/Documents/marble_2020/ethpred/pipeline/fft_truncation.py:46: RuntimeWarning: divide by zero encountered in true_divide\n",
      "  sum_energy = sum_energy / max_cum[:, None, :]\n",
      "/home/pjp18/Documents/marble_2020/ethpred/pipeline/fft_truncation.py:46: RuntimeWarning: invalid value encountered in true_divide\n",
      "  sum_energy = sum_energy / max_cum[:, None, :]\n",
      "/home/pjp18/Documents/marble_2020/ethpred/pipeline/fft_truncation.py:48: RuntimeWarning: invalid value encountered in greater_equal\n",
      "  k_thresh = np.argmax(sum_energy >= energy, axis=1)\n",
      "/home/pjp18/Documents/marble_2020/ethpred/pipeline/fft_truncation.py:53: RuntimeWarning: invalid value encountered in greater_equal\n",
      "  k_filter = sum_energy >= energy\n"
     ]
    }
   ],
   "source": [
    "config_path = '/home/pjp18/Documents/marble_2020/config/config-broken.yaml'\n",
    "cnf = read_config(config_path)\n",
    "cnf['data']['sample_freq'] = cnf['data']['y_len']\n",
    "cnf['data']['train_prop'] = 1\n",
    "\n",
    "model_path = '/home/pjp18/Documents/marble_logs/model_2020-01-27T10_33_25.943376/model.pickle'\n",
    "model = torch.load(model_path)\n",
    "\n",
    "eth_price, gas_price = read_data(cnf)\n",
    "data, normalizers = convert_to_dataframe(eth_price, gas_price, cnf)\n",
    "data_array = data.to_numpy()\n",
    "\n",
    "X, _y, indices = sliding_window(data_array, cnf['data'], return_indices=True)\n",
    "\n",
    "timestamps = [v.to_pydatetime() for v in data.iloc[indices].index.tolist()]\n",
    "\n",
    "X = torch.from_numpy(X).float()\n",
    "\n",
    "with torch.no_grad():\n",
    "    normalized_predictions = model(X).numpy()\n",
    "# FIXME: only works when predicting a single series\n",
    "\n",
    "normalizer = normalizers[cnf['data']['y_cols'][0]]\n",
    "\n",
    "predictions = normalizer.inverse_transform(normalized_predictions)\n",
    "\n",
    "truth = normalizer.inverse_transform(_y)\n"
   ]
  },
  {
   "cell_type": "code",
   "execution_count": 59,
   "metadata": {},
   "outputs": [
    {
     "name": "stdout",
     "output_type": "stream",
     "text": [
      "['min_price_tx'] 3\n",
      "(75, 12)\n",
      "(75, 12)\n",
      "75\n"
     ]
    }
   ],
   "source": [
    "for col in cnf['data']['y_cols']:\n",
    "    idx = data.columns.get_loc(col)\n",
    "    print(cnf['data']['y_cols'], idx)\n",
    "\n",
    "print(predictions.shape)\n",
    "print(truth[:,:,idx].shape)\n",
    "\n",
    "print(len(timestamps))"
   ]
  },
  {
   "cell_type": "code",
   "execution_count": 62,
   "metadata": {},
   "outputs": [],
   "source": [
    "truth = truth[:,:,idx]"
   ]
  },
  {
   "cell_type": "code",
   "execution_count": null,
   "metadata": {},
   "outputs": [],
   "source": []
  },
  {
   "cell_type": "code",
   "execution_count": 63,
   "metadata": {},
   "outputs": [
    {
     "name": "stdout",
     "output_type": "stream",
     "text": [
      "(900,)\n",
      "(900,)\n"
     ]
    }
   ],
   "source": [
    "y_pred = np.concatenate(predictions)\n",
    "y_true = np.concatenate(truth)\n",
    "print(y_pred.shape)\n",
    "print(y_true.shape)"
   ]
  },
  {
   "cell_type": "code",
   "execution_count": 76,
   "metadata": {},
   "outputs": [
    {
     "name": "stdout",
     "output_type": "stream",
     "text": [
      "75\n",
      "[datetime.datetime(2019, 11, 21, 8, 25), datetime.datetime(2019, 11, 21, 10, 5), datetime.datetime(2019, 11, 21, 11, 25), datetime.datetime(2019, 11, 21, 12, 45), datetime.datetime(2019, 11, 21, 13, 50), datetime.datetime(2019, 11, 21, 16, 25), datetime.datetime(2019, 11, 21, 17, 50), datetime.datetime(2019, 11, 21, 18, 50), datetime.datetime(2019, 11, 21, 19, 50), datetime.datetime(2019, 11, 21, 20, 50), datetime.datetime(2019, 11, 21, 21, 50), datetime.datetime(2019, 11, 21, 22, 50), datetime.datetime(2019, 11, 21, 23, 55), datetime.datetime(2019, 11, 22, 1, 0), datetime.datetime(2019, 11, 22, 2, 0), datetime.datetime(2019, 11, 22, 3, 25), datetime.datetime(2019, 11, 22, 4, 50), datetime.datetime(2019, 11, 22, 6, 15), datetime.datetime(2019, 11, 22, 16, 40), datetime.datetime(2019, 11, 22, 17, 40), datetime.datetime(2019, 11, 22, 18, 40), datetime.datetime(2019, 11, 22, 19, 45), datetime.datetime(2019, 11, 22, 21, 0), datetime.datetime(2019, 11, 22, 22, 0), datetime.datetime(2019, 11, 22, 23, 5), datetime.datetime(2019, 11, 23, 0, 5), datetime.datetime(2019, 11, 23, 1, 5), datetime.datetime(2019, 11, 23, 2, 5), datetime.datetime(2019, 11, 23, 3, 10), datetime.datetime(2019, 11, 23, 4, 10), datetime.datetime(2019, 11, 23, 5, 10), datetime.datetime(2019, 11, 23, 6, 10), datetime.datetime(2019, 11, 23, 7, 10), datetime.datetime(2019, 11, 23, 8, 10), datetime.datetime(2019, 11, 23, 9, 10), datetime.datetime(2019, 11, 23, 10, 15), datetime.datetime(2019, 11, 23, 11, 15), datetime.datetime(2019, 11, 23, 12, 15), datetime.datetime(2019, 11, 23, 13, 15), datetime.datetime(2019, 11, 23, 14, 15), datetime.datetime(2019, 11, 23, 15, 15), datetime.datetime(2019, 11, 23, 16, 15), datetime.datetime(2019, 11, 23, 17, 15), datetime.datetime(2019, 11, 23, 18, 15), datetime.datetime(2019, 11, 23, 19, 15), datetime.datetime(2019, 11, 23, 20, 15), datetime.datetime(2019, 11, 23, 21, 15), datetime.datetime(2019, 11, 23, 22, 15), datetime.datetime(2019, 11, 23, 23, 15), datetime.datetime(2019, 11, 24, 0, 15), datetime.datetime(2019, 11, 24, 1, 15), datetime.datetime(2019, 11, 24, 2, 15), datetime.datetime(2019, 11, 24, 3, 15), datetime.datetime(2019, 11, 24, 4, 15), datetime.datetime(2019, 11, 24, 5, 15), datetime.datetime(2019, 11, 24, 6, 15), datetime.datetime(2019, 11, 24, 7, 20), datetime.datetime(2019, 11, 24, 8, 20), datetime.datetime(2019, 11, 24, 9, 20), datetime.datetime(2019, 11, 24, 10, 20), datetime.datetime(2019, 11, 24, 11, 20), datetime.datetime(2019, 11, 24, 12, 20), datetime.datetime(2019, 11, 24, 13, 25), datetime.datetime(2019, 11, 24, 14, 25), datetime.datetime(2019, 11, 24, 15, 25), datetime.datetime(2019, 11, 24, 16, 25), datetime.datetime(2019, 11, 24, 17, 25), datetime.datetime(2019, 11, 24, 18, 25), datetime.datetime(2019, 11, 24, 19, 25), datetime.datetime(2019, 11, 24, 20, 25), datetime.datetime(2019, 11, 24, 21, 25), datetime.datetime(2019, 11, 24, 22, 25), datetime.datetime(2019, 11, 24, 23, 25), datetime.datetime(2019, 11, 25, 10, 35), datetime.datetime(2019, 11, 25, 12, 20)]\n",
      "(900,)\n"
     ]
    }
   ],
   "source": [
    "print(len(timestamps))\n",
    "all_stamps = []\n",
    "for i in timestamps:\n",
    "    cur_stamps = []\n",
    "    j = 1\n",
    "    while j <= 12:\n",
    "        cur_stamps.append(i+datetime.timedelta(minutes=5*j))\n",
    "        j+=1\n",
    "    all_stamps.append(np.array(cur_stamps))\n",
    "\n",
    "print(timestamps)\n",
    "x = np.concatenate(all_stamps)\n",
    "print(x.shape)"
   ]
  },
  {
   "cell_type": "code",
   "execution_count": 123,
   "metadata": {
    "scrolled": false
   },
   "outputs": [
    {
     "data": {
      "image/png": "[encoded data removed]",
      "text/plain": [
       "<Figure size 345.895x216 with 1 Axes>"
      ]
     },
     "metadata": {},
     "output_type": "display_data"
    }
   ],
   "source": [
    "plt.rc('font', size=8)\n",
    "\n",
    "fig_path = '/home/pjp18/Documents/marble_logs/'\n",
    "begin = 300\n",
    "end = 850\n",
    "import matplotlib.dates as mdates\n",
    "x1 = np.arange(900)\n",
    "\n",
    "fig = plt.figure(figsize=(4.8041,3))\n",
    "ax = plt.subplot()\n",
    "ax.plot(x[begin:end], y_true[begin:end], color='tomato', label='True', linewidth=0.8)\n",
    "ax.plot(x[begin:end], y_pred[begin:end], color='royalblue', label='Predicted', linewidth=0.8)\n",
    "ax.set_ylabel('Gas Price', fontdict={'size':8})\n",
    "ax.set_xlabel('Date and Time', fontdict={'size':8})\n",
    "\n",
    "ax.xaxis.set_major_formatter(mdates.DateFormatter('%d-%H:00'))\n",
    "\n",
    "ax.tick_params(axis='x', which='major', labelsize=8, rotation=45)\n",
    "ax.tick_params(axis='y', which='major', labelsize=8)\n",
    "ax.tick_params(axis='both', which='minor', labelsize=8)\n",
    "ax.legend(loc='best', prop={'size': 8})\n",
    "ax.set_facecolor('white')\n",
    "ax.grid(color='whitesmoke')\n",
    "\n",
    "fig.savefig(fig_path+'prediction_example.pdf', bbox_inches='tight', dpi=900)\n",
    "plt.show()"
   ]
  },
  {
   "cell_type": "code",
   "execution_count": null,
   "metadata": {},
   "outputs": [],
   "source": []
  },
  {
   "cell_type": "code",
   "execution_count": null,
   "metadata": {},
   "outputs": [],
   "source": []
  }
 ],
 "metadata": {
  "kernelspec": {
   "display_name": "Python 3",
   "language": "python",
   "name": "python3"
  },
  "language_info": {
   "codemirror_mode": {
    "name": "ipython",
    "version": 3
   },
   "file_extension": ".py",
   "mimetype": "text/x-python",
   "name": "python",
   "nbconvert_exporter": "python",
   "pygments_lexer": "ipython3",
   "version": "3.7.5"
  }
 },
 "nbformat": 4,
 "nbformat_minor": 2
}
